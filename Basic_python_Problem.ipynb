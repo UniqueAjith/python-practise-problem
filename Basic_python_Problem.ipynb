{
 "cells": [
  {
   "cell_type": "markdown",
   "metadata": {},
   "source": [
    "# Python Programming:\n",
    "\n",
    "## 1. Write a program to demonstrate different number data types in Python."
   ]
  },
  {
   "cell_type": "code",
   "execution_count": 2,
   "metadata": {},
   "outputs": [
    {
     "name": "stdout",
     "output_type": "stream",
     "text": [
      "a is the type of <class 'int'>\n",
      "b is the type of <class 'float'>\n",
      "c is the type of <class 'complex'>\n",
      "d is the type of <class 'str'>\n"
     ]
    }
   ],
   "source": [
    "a = 5\n",
    "b = 2.0\n",
    "c = 8.08j\n",
    "d = 'Ajith'\n",
    "\n",
    "print('a is the type of',type(a))\n",
    "print('b is the type of',type(b))\n",
    "print('c is the type of',type(c))\n",
    "print('d is the type of',type(d))"
   ]
  },
  {
   "cell_type": "markdown",
   "metadata": {},
   "source": [
    "## 2. Write a program to perform different Arithmetic Operations on numbers in Python."
   ]
  },
  {
   "cell_type": "code",
   "execution_count": 14,
   "metadata": {},
   "outputs": [
    {
     "name": "stdout",
     "output_type": "stream",
     "text": [
      "The Sum of 3 and 2 is \n",
      "The Difference of 3 and 2 is \n",
      "The Product of 3 and 2 is \n",
      "The Division of 3 and 2 is \n",
      "The Remainder of 3 and 2 is \n",
      "The Exponent of 3 and 2 is \n",
      "The Float Division of 3 and 2 is \n"
     ]
    }
   ],
   "source": [
    "num_1 = int(input('Enter 1st number:'))\n",
    "num_2 = int(input('Enter 2nd number:'))\n",
    "\n",
    "print('The Sum of {} and {} is '.format(num_1,num_2,num_1+num_2))\n",
    "print('The Difference of {} and {} is '.format(num_1,num_2,num_1-num_2))\n",
    "print('The Product of {} and {} is '.format(num_1,num_2,num_1*num_2))\n",
    "print('The Division of {} and {} is '.format(num_1,num_2,num_1/num_2))\n",
    "print('The Remainder of {} and {} is '.format(num_1,num_2,num_1%num_2))\n",
    "print('The Exponent of {} and {} is '.format(num_1,num_2,num_1**num_2))\n",
    "print('The Float Division of {} and {} is '.format(num_1,num_2,num_1//num_2))\n"
   ]
  },
  {
   "cell_type": "markdown",
   "metadata": {},
   "source": [
    "## 3. Write a program to create, concatenate and print a string and accessing sub-string from a given string."
   ]
  },
  {
   "cell_type": "code",
   "execution_count": 2,
   "metadata": {},
   "outputs": [
    {
     "name": "stdout",
     "output_type": "stream",
     "text": [
      "First String is Unique\n",
      "Second String is Ajith\n",
      "Concatenation of two given is UniqueAjith\n",
      "The Sub-String of First String is Uni\n",
      "The Sub-String of Second String is Aji\n"
     ]
    }
   ],
   "source": [
    "str_1 = input('Enter First String:')\n",
    "str_2 = input('Enter Second String:')\n",
    "\n",
    "print('First String is {}'.format(str_1))\n",
    "print('Second String is {}'.format(str_2))\n",
    "\n",
    "print('Concatenation of two given is {}'.format(str_1+str_2))\n",
    "\n",
    "print('The Sub-String of First String is {}'.format(str_1[:3]))\n",
    "print('The Sub-String of Second String is {}'.format(str_2[:3]))"
   ]
  },
  {
   "cell_type": "markdown",
   "metadata": {},
   "source": [
    "## 4. Write a python script to print the current date in the following format “Wed Jan 12 18:51:19 IST 2022”"
   ]
  },
  {
   "cell_type": "code",
   "execution_count": 5,
   "metadata": {},
   "outputs": [
    {
     "name": "stdout",
     "output_type": "stream",
     "text": [
      "Wed Jan 12 18:51:19 India Standard Time 2022\n"
     ]
    }
   ],
   "source": [
    "import time\n",
    "\n",
    "mytime = time.localtime()\n",
    "\n",
    "print(time.strftime('%a %b %d %H:%M:%S %Z %Y',mytime))"
   ]
  },
  {
   "cell_type": "markdown",
   "metadata": {},
   "source": [
    "## 5. Write a program to create, append, and remove lists in python."
   ]
  },
  {
   "cell_type": "code",
   "execution_count": 1,
   "metadata": {},
   "outputs": [
    {
     "name": "stdout",
     "output_type": "stream",
     "text": [
      "My list after append is [1, 8, 4, 9, 5, 2, 0, 3]\n",
      "the sorted list is [0, 1, 2, 3, 4, 5, 8, 9]\n",
      "after the pop: [0, 1, 2, 3, 4, 5, 8]\n",
      "After delete: [0, 1, 3, 4, 5, 8]\n"
     ]
    }
   ],
   "source": [
    "myList =[1,8,4,9,5,2,0]\n",
    "\n",
    "myList.append(3)\n",
    "print('My list after append is {}'.format(myList))\n",
    "\n",
    "myList.sort()\n",
    "print(\"the sorted list is\",myList)\n",
    "\n",
    "myList.pop()\n",
    "print(\"after the pop:\",myList)\n",
    "\n",
    "del myList[2]\n",
    "print(\"After delete:\",myList)"
   ]
  },
  {
   "cell_type": "markdown",
   "metadata": {},
   "source": [
    "## 6. Check that a tuple cannot be changed in python."
   ]
  },
  {
   "cell_type": "code",
   "execution_count": 2,
   "metadata": {},
   "outputs": [
    {
     "ename": "TypeError",
     "evalue": "'tuple' object does not support item assignment",
     "output_type": "error",
     "traceback": [
      "\u001b[1;31m---------------------------------------------------------------------------\u001b[0m",
      "\u001b[1;31mTypeError\u001b[0m                                 Traceback (most recent call last)",
      "\u001b[1;32m~\\AppData\\Local\\Temp/ipykernel_3860/122137931.py\u001b[0m in \u001b[0;36m<module>\u001b[1;34m\u001b[0m\n\u001b[0;32m      1\u001b[0m \u001b[0mmyTuple\u001b[0m \u001b[1;33m=\u001b[0m \u001b[1;33m(\u001b[0m\u001b[1;36m1\u001b[0m\u001b[1;33m,\u001b[0m\u001b[1;34m'python'\u001b[0m\u001b[1;33m,\u001b[0m\u001b[1;36m2.5\u001b[0m\u001b[1;33m)\u001b[0m\u001b[1;33m\u001b[0m\u001b[1;33m\u001b[0m\u001b[0m\n\u001b[1;32m----> 2\u001b[1;33m \u001b[0mmyTuple\u001b[0m\u001b[1;33m[\u001b[0m\u001b[1;36m1\u001b[0m\u001b[1;33m]\u001b[0m \u001b[1;33m=\u001b[0m \u001b[1;34m'ajith'\u001b[0m\u001b[1;33m\u001b[0m\u001b[1;33m\u001b[0m\u001b[0m\n\u001b[0m\u001b[0;32m      3\u001b[0m \u001b[0mprint\u001b[0m\u001b[1;33m(\u001b[0m\u001b[0mmyTuple\u001b[0m\u001b[1;33m)\u001b[0m\u001b[1;33m\u001b[0m\u001b[1;33m\u001b[0m\u001b[0m\n",
      "\u001b[1;31mTypeError\u001b[0m: 'tuple' object does not support item assignment"
     ]
    }
   ],
   "source": [
    "myTuple = (1,'python',2.5)\n",
    "myTuple[1] = 'ajith'\n",
    "print(myTuple)"
   ]
  },
  {
   "cell_type": "markdown",
   "metadata": {},
   "source": [
    "## 7. Write a program to demonstrate working with dictionaries in python."
   ]
  },
  {
   "cell_type": "code",
   "execution_count": 5,
   "metadata": {},
   "outputs": [
    {
     "name": "stdout",
     "output_type": "stream",
     "text": [
      "My Dictionary is {1: 'ajith', 2: 'baghat'}\n",
      "ajith\n",
      "After update: {1: 'ajith', 2: 'baghat', 3: 'madhan'}\n",
      "The dict_keys are : dict_keys([1, 2, 3])\n",
      "The dict_values are : dict_values(['ajith', 'baghat', 'madhan'])\n",
      "The length of dict is : 3\n"
     ]
    }
   ],
   "source": [
    "myDict = {1:\"ajith\",2:\"baghat\"}\n",
    "print('My Dictionary is {}'.format(myDict))\n",
    "\n",
    "#accessing\n",
    "print(myDict[1])\n",
    "\n",
    "#update\n",
    "myDict.update({3:\"madhan\"})\n",
    "print(\"After update:\",myDict)\n",
    "\n",
    "#keys\n",
    "print(\"The dict_keys are :\",myDict.keys())\n",
    "\n",
    "#values\n",
    "print(\"The dict_values are :\",myDict.values())\n",
    "\n",
    "#len\n",
    "print(\"The length of dict is :\",len(myDict))"
   ]
  },
  {
   "cell_type": "markdown",
   "metadata": {},
   "source": [
    "## 8. Write a python program to find largest of three numbers."
   ]
  },
  {
   "cell_type": "code",
   "execution_count": 6,
   "metadata": {},
   "outputs": [
    {
     "name": "stdout",
     "output_type": "stream",
     "text": [
      "The Largest number of 5,8 and 1 is 8\n"
     ]
    }
   ],
   "source": [
    "no_1 = int(input('Enter the 1st number:'))\n",
    "no_2 = int(input('Enter the 2nd number:'))\n",
    "no_3 = int(input('Enter the 3rd number:'))\n",
    "\n",
    "if (no_1 >= no_2) and (no_1 >=no_3):\n",
    "    large_num = no_1\n",
    "\n",
    "elif (no_2 >= no_1) and (no_2 >= no_3):\n",
    "    large_num = no_2\n",
    "    \n",
    "else:\n",
    "    large_num = no_3\n",
    "    \n",
    "print('The Largest number of {},{} and {} is {}'.format(no_1,no_2,no_3,large_num))\n",
    "    "
   ]
  },
  {
   "cell_type": "markdown",
   "metadata": {},
   "source": [
    "## 9.Write a Python program to convert temperatures to and from Celsius, Fahrenheit. [ Formula: c = (f-32)(5/9)]"
   ]
  },
  {
   "cell_type": "code",
   "execution_count": 9,
   "metadata": {},
   "outputs": [
    {
     "name": "stdout",
     "output_type": "stream",
     "text": [
      "Temperature in Fahrenheit is 208.4\n"
     ]
    }
   ],
   "source": [
    "temp = float(input(\"Enter the tempeature:\"))\n",
    "unit = input('Enter the unit(C for Celsius and F for Fahrenheit):')\n",
    "\n",
    "if (unit=='C') or (unit=='c'):\n",
    "    new_temp = 9/5 * temp + 32\n",
    "    print('Temperature in Fahrenheit is {}'.format(new_temp))\n",
    "    \n",
    "elif (unit=='F') or (unit=='f'):\n",
    "    new_temp = (temp-32)*(5/9)\n",
    "    print('Temperature in Celsius is {}'.format(new_temp))\n",
    "    \n",
    "else:\n",
    "    print('Unknown Unit...')"
   ]
  },
  {
   "cell_type": "markdown",
   "metadata": {},
   "source": [
    "## 10. Write a program to find i**2."
   ]
  },
  {
   "cell_type": "code",
   "execution_count": 11,
   "metadata": {},
   "outputs": [
    {
     "name": "stdout",
     "output_type": "stream",
     "text": [
      "0\n",
      "1\n",
      "4\n"
     ]
    }
   ],
   "source": [
    "num = int(input(\"Enter the number:\"))\n",
    "i=0\n",
    "while i<num:\n",
    "    mul = i**2\n",
    "    print(mul)\n",
    "    i+=1"
   ]
  },
  {
   "cell_type": "markdown",
   "metadata": {},
   "source": [
    "## 11. Write a Python script that prints the given number is prime numbers or not."
   ]
  },
  {
   "cell_type": "code",
   "execution_count": 13,
   "metadata": {},
   "outputs": [
    {
     "name": "stdout",
     "output_type": "stream",
     "text": [
      "10 is not a prime\n"
     ]
    }
   ],
   "source": [
    "num = int(input(\"Enter the number:\"))\n",
    "prime= False\n",
    "if num>1:\n",
    "    for i in range(2,num):\n",
    "        if(num%i==0):\n",
    "            prime = True\n",
    "            break\n",
    "\n",
    "    if prime:\n",
    "        print(\"{} is not a prime\".format(num))\n",
    "\n",
    "    else:\n",
    "        print(\"{} is a prime\".format(num))\n",
    "\n",
    "else:\n",
    "    print(\"{} is less than or equal to 1,so it's not prime\".format(num))\n"
   ]
  },
  {
   "cell_type": "markdown",
   "metadata": {},
   "source": [
    "## 12. Write a python program to find factorial of a number using Recursion."
   ]
  },
  {
   "cell_type": "code",
   "execution_count": 16,
   "metadata": {},
   "outputs": [
    {
     "name": "stdout",
     "output_type": "stream",
     "text": [
      "The Factioral of 4 is 24\n"
     ]
    }
   ],
   "source": [
    "def fac_fn(num):\n",
    "    if num==1:\n",
    "        return num\n",
    "    else:\n",
    "        return num * fac_fn(num-1)\n",
    "    \n",
    "num = int(input('Enter the number:'))\n",
    "\n",
    "if num<0:\n",
    "    print(\"{} is a negative value does not exist...\".format(num))\n",
    "\n",
    "elif num==0:\n",
    "    print(\"The Factorial of 0 is 1\")\n",
    "    \n",
    "else:\n",
    "    sum = fac_fn(num)\n",
    "    print('The Factioral of {} is {}'.format(num,sum))"
   ]
  },
  {
   "cell_type": "markdown",
   "metadata": {},
   "source": [
    "## 13. Write a program that accepts the lengths of three sides of a triangle as inputs. The program output should indicate whether or not the triangle is a right triangle."
   ]
  },
  {
   "cell_type": "code",
   "execution_count": 19,
   "metadata": {},
   "outputs": [
    {
     "name": "stdout",
     "output_type": "stream",
     "text": [
      "It is a right triangle\n"
     ]
    }
   ],
   "source": [
    "base = float(input('Enter the length of Base:'))\n",
    "hypo = float(input('Enter the length of Hypotenuse:'))\n",
    "perp = float(input('Enter the length of Perpendicular:'))\n",
    "\n",
    "if (perp**2) == ((base**2)+(hypo**2)):\n",
    "    print('It is a right triangle')\n",
    "\n",
    "else:\n",
    "    print('It is not a right triangle')"
   ]
  },
  {
   "cell_type": "markdown",
   "metadata": {},
   "source": [
    "## 14. Find Fibonacci in python."
   ]
  },
  {
   "cell_type": "code",
   "execution_count": 21,
   "metadata": {},
   "outputs": [
    {
     "name": "stdout",
     "output_type": "stream",
     "text": [
      "The fibonacci of 9 is 34\n"
     ]
    }
   ],
   "source": [
    "def fibonacci(n):\n",
    "    a = 0\n",
    "    b = 1\n",
    "\n",
    "    if n < 0:\n",
    "        print(\"Incorrect input\")\n",
    "\n",
    "    elif n == 0:\n",
    "        return 0\n",
    "\n",
    "    elif n == 1:\n",
    "        return b\n",
    "    else:\n",
    "        for i in range(1, n):\n",
    "            c = a + b\n",
    "            a = b\n",
    "            b = c\n",
    "        return b\n",
    "\n",
    "num = int(input('Enter the terms:'))\n",
    "fibonacci_num = fibonacci(num)\n",
    "print('The fibonacci of {} is {}'.format(num,fibonacci_num))\n",
    " "
   ]
  },
  {
   "cell_type": "markdown",
   "metadata": {},
   "source": [
    "## 15. Python Program for cube sum of first n natural numbers."
   ]
  },
  {
   "cell_type": "code",
   "execution_count": 23,
   "metadata": {},
   "outputs": [
    {
     "name": "stdout",
     "output_type": "stream",
     "text": [
      "The cube sum of 5 is 225\n"
     ]
    }
   ],
   "source": [
    "def cube_sum(num):\n",
    "    sum = 0\n",
    "    for i in range(1,num+1):\n",
    "        sum += i*i*i\n",
    "        \n",
    "    return sum\n",
    "\n",
    "num = int(input('Enter the number:'))\n",
    "print('The cube sum of {} is {}'.format(num,cube_sum(num)))"
   ]
  },
  {
   "cell_type": "markdown",
   "metadata": {},
   "source": [
    "## 16. Python Program for Program to find area of a circle"
   ]
  },
  {
   "cell_type": "code",
   "execution_count": 25,
   "metadata": {},
   "outputs": [
    {
     "name": "stdout",
     "output_type": "stream",
     "text": [
      "Area of circle is 78.5\n"
     ]
    }
   ],
   "source": [
    "def area(radius):\n",
    "    total = 3.14 * (radius **2)\n",
    "    return total\n",
    "\n",
    "radius = int(input('Enter the radius of the circle:'))\n",
    "print('Area of circle is {}'.format(area(radius)))"
   ]
  },
  {
   "cell_type": "markdown",
   "metadata": {},
   "source": [
    "## 17. Python Program for compound interest"
   ]
  },
  {
   "cell_type": "code",
   "execution_count": 27,
   "metadata": {},
   "outputs": [
    {
     "name": "stdout",
     "output_type": "stream",
     "text": [
      "The Compound Interest is 6288.946267774416\n"
     ]
    }
   ],
   "source": [
    "def interest(p,r,n):\n",
    "    amount = p*(1+(r/100))**n\n",
    "    CI = amount - p\n",
    "    return CI\n",
    "\n",
    "p = int(input('Enter the Principle amount:'))\n",
    "r = float(input('Enter the rate of interest:'))\n",
    "n = int(input('Enter the no of year:'))\n",
    "\n",
    "print('The Compound Interest is {}'.format(interest(p,r,n)))"
   ]
  },
  {
   "cell_type": "markdown",
   "metadata": {},
   "source": [
    "## 18. Python program to print positive numbers in a list."
   ]
  },
  {
   "cell_type": "code",
   "execution_count": 32,
   "metadata": {},
   "outputs": [
    {
     "name": "stdout",
     "output_type": "stream",
     "text": [
      "12\n",
      "15\n",
      "24\n",
      "50\n",
      "60\n"
     ]
    }
   ],
   "source": [
    "List = [12,15,-17,24,50,-40,60]\n",
    "\n",
    "for i in List:\n",
    "    if i >= 0:\n",
    "        print(i)"
   ]
  },
  {
   "cell_type": "markdown",
   "metadata": {},
   "source": [
    "## 19. Remove multiple elements from a list in Python."
   ]
  },
  {
   "cell_type": "code",
   "execution_count": 33,
   "metadata": {},
   "outputs": [
    {
     "name": "stdout",
     "output_type": "stream",
     "text": [
      "New List after removing all odd element: [10, 32, 84, 36, 98]\n"
     ]
    }
   ],
   "source": [
    "my_list = [10,71,32,53,84,45,36,27,98]\n",
    "\n",
    "for i in my_list:\n",
    "    if i%2 !=0:\n",
    "        my_list.remove(i)\n",
    "        \n",
    "print('New List after removing all odd element:',my_list)"
   ]
  },
  {
   "cell_type": "markdown",
   "metadata": {},
   "source": [
    "## 20. Python program to interchange first and last elements in a list."
   ]
  },
  {
   "cell_type": "code",
   "execution_count": 35,
   "metadata": {},
   "outputs": [
    {
     "name": "stdout",
     "output_type": "stream",
     "text": [
      "Before Swapping: [10, 20, 30, 40, 50]\n",
      "After Swapping: [50, 20, 30, 40, 10]\n"
     ]
    }
   ],
   "source": [
    "def swapping(list):\n",
    "    size = len(list)\n",
    "    \n",
    "    temp = list[0]\n",
    "    list[0] = list[size-1]\n",
    "    list[size-1] = temp\n",
    "    \n",
    "    return list\n",
    "\n",
    "list = [10,20,30,40,50]\n",
    "print('Before Swapping:',list)\n",
    "\n",
    "print('After Swapping:',swapping(list))"
   ]
  },
  {
   "cell_type": "markdown",
   "metadata": {},
   "source": [
    "## 21. Program to accept the strings which contains all vowels."
   ]
  },
  {
   "cell_type": "code",
   "execution_count": 38,
   "metadata": {},
   "outputs": [
    {
     "name": "stdout",
     "output_type": "stream",
     "text": [
      "Input String is SEEquoial\n",
      "The Given String is accepted...\n"
     ]
    }
   ],
   "source": [
    "def check_str(string):\n",
    "    string = string.lower()\n",
    "    \n",
    "    vowels = set({'a','e','i','o','u'})\n",
    "    char = set({})\n",
    "    \n",
    "    for i in string:\n",
    "        if i in vowels:\n",
    "            char.add(i)\n",
    "        \n",
    "    if len(vowels) == len(char):\n",
    "        print('The Given String is accepted...')\n",
    "    else:\n",
    "        print('The Given String is not accepted...')\n",
    "\n",
    "string = input('Enter the string:')\n",
    "print('Input String is',string)\n",
    "check_str(string)"
   ]
  },
  {
   "cell_type": "markdown",
   "metadata": {},
   "source": [
    "## 22. Python program to check if a string is palindrome or not."
   ]
  },
  {
   "cell_type": "code",
   "execution_count": 41,
   "metadata": {},
   "outputs": [
    {
     "name": "stdout",
     "output_type": "stream",
     "text": [
      "Input string: malayalam\n",
      "It is a palindrome...\n"
     ]
    }
   ],
   "source": [
    "def palindrome(name):\n",
    "    return name == name[::-1]\n",
    "\n",
    "name = input('Enter the string:')\n",
    "print('Input string:',name)\n",
    "\n",
    "string = palindrome(name)\n",
    "\n",
    "if string:\n",
    "    print('It is a palindrome...')\n",
    "else:\n",
    "    print('It is a not palindrome...')"
   ]
  },
  {
   "cell_type": "markdown",
   "metadata": {},
   "source": [
    "## 23. Python Program for Sum of squares of first n natural numbers."
   ]
  },
  {
   "cell_type": "code",
   "execution_count": 42,
   "metadata": {},
   "outputs": [
    {
     "name": "stdout",
     "output_type": "stream",
     "text": [
      "The cube sum of 3 is 14\n"
     ]
    }
   ],
   "source": [
    "def sq_sum(num):\n",
    "    sum = 0\n",
    "    for i in range(1,num+1):\n",
    "        sum += i*i\n",
    "        \n",
    "    return sum\n",
    "\n",
    "num = int(input('Enter the number:'))\n",
    "print('The cube sum of {} is {}'.format(num,sq_sum(num)))"
   ]
  }
 ],
 "metadata": {
  "interpreter": {
   "hash": "38740d3277777e2cd7c6c2cc9d8addf5118fdf3f82b1b39231fd12aeac8aee8b"
  },
  "kernelspec": {
   "display_name": "Python 3.9.6 64-bit",
   "language": "python",
   "name": "python3"
  },
  "language_info": {
   "codemirror_mode": {
    "name": "ipython",
    "version": 3
   },
   "file_extension": ".py",
   "mimetype": "text/x-python",
   "name": "python",
   "nbconvert_exporter": "python",
   "pygments_lexer": "ipython3",
   "version": "3.9.6"
  },
  "orig_nbformat": 4
 },
 "nbformat": 4,
 "nbformat_minor": 2
}
